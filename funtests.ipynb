{
 "metadata": {
  "language_info": {
   "codemirror_mode": {
    "name": "ipython",
    "version": 3
   },
   "file_extension": ".py",
   "mimetype": "text/x-python",
   "name": "python",
   "nbconvert_exporter": "python",
   "pygments_lexer": "ipython3",
   "version": "3.7.4-final"
  },
  "orig_nbformat": 2,
  "kernelspec": {
   "name": "python3",
   "display_name": "Python 3",
   "language": "python"
  }
 },
 "nbformat": 4,
 "nbformat_minor": 2,
 "cells": [
  {
   "cell_type": "code",
   "execution_count": 8,
   "metadata": {},
   "outputs": [
    {
     "output_type": "stream",
     "name": "stderr",
     "text": [
      "Warning : `load_model` does not return WordVectorModel or SupervisedModel any more, but a `FastText` object which is very similar.\n"
     ]
    }
   ],
   "source": [
    "import pandas as pd\n",
    "import fasttext\n",
    "import re\n",
    "import csv \n",
    "\n",
    "project_dir = \"~/Dropbox/GlobalGits/reddit_fun/\"\n",
    "\n",
    "me_model = fasttext.load_model(\"%s/output/bloomingmodel.bin\" % (project_dir))"
   ]
  },
  {
   "cell_type": "code",
   "execution_count": 2,
   "metadata": {},
   "outputs": [
    {
     "output_type": "stream",
     "name": "stdout",
     "text": [
      "<fasttext.FastText._FastText object at 0x7f8970c660d0>\n"
     ]
    }
   ],
   "source": [
    "print(me_model)"
   ]
  },
  {
   "cell_type": "code",
   "execution_count": 5,
   "metadata": {},
   "outputs": [],
   "source": [
    "with open('%s/output/test_clean.txt' % (project_dir), 'r') as f:\n",
    "    stuff = f.read()\n",
    "\n",
    "things = re.split(\"__label__\\\\w+\",  stuff)"
   ]
  },
  {
   "cell_type": "code",
   "execution_count": 6,
   "metadata": {},
   "outputs": [
    {
     "output_type": "execute_result",
     "data": {
      "text/plain": [
       "801"
      ]
     },
     "metadata": {},
     "execution_count": 6
    }
   ],
   "source": [
    "len(things)"
   ]
  },
  {
   "cell_type": "code",
   "execution_count": 10,
   "metadata": {
    "tags": [
     "outputPrepend"
    ]
   },
   "outputs": [
    {
     "output_type": "stream",
     "name": "stdout",
     "text": [
      "into the sea . \n https: /  / mobile . twitter . com / jhunewsletter / status / 1332100155986882562  they admit straight up it was taken down because they didn't like how people were using it to argue against restrictions ,  not because of any actual issues in the data .    once again the censorship tells you everything you need to know . \n mike is staying healthy and safe !   ( family friend ) \n quit simping . \n you would not believe what gets thrown away in a restaurant kitchen on a daily basis .   it doesn ’ t matter what kind of food you ’ re making ,  there is a ton of styrofoam and plastic packaging that is an absolute mountain compared to the volume of to go boxes used each day .    a lot of restaurants ,  particularly in places like bloomington ,  have adopted “green” to go containers .  i won ’ t say they are completely cynical ,  but anyone who works in a restaurant knows it ’ s pretty much theater .  brands like ecover and greenware tout themselves as compostable ,  which they technically are ,  but only in very specific circumstances .  but restaurants buy them because it makes guests feel better .  many of these products are insanely expensive compared to the cheap options .  but this kind of greenwashjng gets loyal customers ,  especially in a place like bloomington .    i would also like to add that despite the fact that bloomington eaters like to think of themselves as broad minded ,  they are like many other americans in that they expect “ethnic” or “international “ food to be cheap .  i think someone even said that samira was expensive on this very thread .  samira is one of the few white tablecloth restaurants in bloomington .  the service is excellent .  the food is excellent and you can ’ t find it anywhere else in the area .   but non-european ,  so yeah ,  it has to be cheap .    i would also like to point out that pre-covid the vast majority of guests at samira cane for table service .  the lunch buffet was almost entirely eat-in .  right now ,  offering the lunch “buffet” as a to go option is the only way they can stay afloat .  if you care about restaurant owners and employees you would encourage practices like this .  no one bats an eye at the millions of masks and other ppe that gets thrown away .  yet they expect restaurant workers to continue to pick up and wash their dirty tableware during a pandemic ?  to go containers are basically ppe for restaurant workers .    in my personal life ,  i live pretty lightly .  this is partly because i see from the inside how much waste the restaurant industry creates .  i bring my containers to blooming foods ,  grow a lot of my own food ,  and am religious about saving leftovers from work .  if you want to soothe your eco-anxiety ,  eat at home ,  and stop fussing over a couple of styrofoam containers .  that ’ s how you can make the most difference . \n without these being public there wouldn ’ t be pressure on the prosecutors to act .  this video was posted because the system isn ’ t working . \n line has shortened to a block or two now and is moving quickly ! \n true ,   i guess i gotta give him that .  if he actually met real klan or whatever he wanted to paint them as ,  they'd probably have shot him and dumped his body in some corner of the hnf .  booker and his friends were out in the woods unarmed ,  anything can happen . \n > not to make a judgement call on that but i can imagine how that would make people more aggressive . \n that is an awesome lunch .  thanks for sharing ! \n i didn ’ t see this in the article ,  but i was once told that iu includes its tuition as part of the compensation ( from an accounting perspective )  .  which makes its grad students appear to be making $50k+ a year as opposed to the actual ~$15kish range .  anyone else hear that before ? \n they had *noses !  ! 1 ! * 🙄  eight months and people are still acting like other humans exhale sarin . \n they've only mildly started to affect me in the spring since moving here but not nearly as bad as fall . \n an econometrics professor i would rank highly on 'knows what to do with data' ,  but would be curious to hear more about this as it's so far out of whack with other analyses i've seen on excess deaths .  tried to download some data from the cdc but the fool thing kept timing out .  plus contrary to random doofus speculation elsewhere about 'covid lovers' i currently have 2 . 5 jobs that i juggle with a family and crippling adhd so time and bandwidth is not abundant .  generally ,  would be interested to hear responses from other qualified data / stats folks  ( although they are not bulletproof either ,  god knows )  . \n so fucking dumb .  the current turn lanes don't even reliably clear all the eastbound traffic before they turn . \n lol\n fortunately ,  it looks like that sharpie thing isn't entirely accurate .  so that's good that their votes are going to get counted .  and it looks like that those votes they're talking about in the other article were due a typo that got corrected ,  so that's good too .  but thanks for the links\n you ever hear about that piece of public art in elgin ,  il .  ?  where a guy painted a public arts mural of the bottom third of that picture ,  and no one realized the context for years .  that guy was paid to decorate a public space with a perfect illustration of white indifference to racial atrocity ,  and no one noticed .  brilliant . \n is this the one killing cats and small dogs on the west side ? \n i think it's more that they have no sense of collective responsibility--i wear a mask to protect you ,  and you wear one to protect me ,  and everyone is safer .  i'd bet there's a significant overlap between people opposed to masks and people opposed to single-payer health care . \n i agree .  as a road cyclist ,  i am usually going to just use a lane on the road ,  as i go way to fast too ride safely on multi-use paths with pedestrians .  it is better if the city would keep multi-lane roads; the cars can just pass me on the left in a full lane: faster for them ,  safer for me .  long buffered bike lanes ,  like the one on east 3rd ,  are ideal because the cars still get multiple lanes and i get a lane that pedestrians  ( in theory )  wont use . \n protect rights not lives\n king ! \n that's actually a really good idea .   i wish i had thought of this when i was in a similar situation . \n so ,  what's the solution ? \n downvoting is kinda saying i don't like it ? \n so there is no scientific reference for the claim that sars-cov-2 causes covid-19 ?  seems like such a basic question ,  but i can't find an answer  .  .  .  how was it determined that this particular virus is the cause of this particular outbreak of sickness ? \n hahaha . \n that's a real concern .  even most people who are military trained are not properly trained to work crowd control .  that's why riot police have shields and batons and not firearms .  weapons are handled by overwatch ,  and that is usually a fallback to the 40mm and pepper ball gang .   that \"jason\" carrying in condition 1 or 2 by himself among that many people could cause serious problems by simply panicking .  he drew down on a couple of punches thrown means he needs to not be down there .  i really have to give respect to the people who got him out of there . \n person experiencing a lack of junk ? \n what ’ s cooler than cool ?  ice cold\n it seemed like 30-90 minutes was a typical wait for early voting in 2016 .  has anyone had to wait that long to vote on election day here ?   i've never had to wait more than 5 minutes to vote on election day ,  but i'm not sure if that's typical or if my precinct is an outlier . \n from where i'm standing it's like separating the wheat from the chaff . \n i don't understand americans . \n throatpies is likely  (  no fucking way i ’ m clicking )  consenting adults ,  yadda yadda .  reddit said somebody violated their terms in which case spare me the breitbart section 230 talking points .  anti maskers are human stains standing in the way of getting past the pandemic ,  fuck every last one of them whether they ’ re white supremacist nazi apologists or just delusional contrarians . \n that price is not out of line with some of the other nicer dorm options ,  which range from about $7500 to $11800 .     [https: /  / housing . indiana . edu / housing / costs / 20-21costs / index . html] ( https: /  / housing . indiana . edu / housing / costs / 20-21costs / index . html ) \n no doubt in rural areas .  but i've also noticed that ,  whenever i return from traveling overseas ,  i immediately notice how fat ,  dull-eyed ,  and slack-jawed americans are compared to other countries . \n even monroes rule favour distance ,  recommending masks only when that is not an option . \n this feels like a double edged sword .  i worry that it is foreshadowing to something dangerous . \n haaaaaaaaaaaaaaaaa ! \n the right wing goofnauts have been saying there is a war against christianity for a long time .  i did not really believe it until now .  what kind of fucked up pageantry is that ?    this is communist bullshit .  the globalist establishment are tearing down religious beliefs .  islam starting in 2001 ,  christianity starting in 2009 ,  judaism ,  2020 .  this is some bad juju folks . \n yes great blue heron\n how about expel students who fail to abide ? \n [deleted]\n stop assuming that everyone who is voting is privileged .  many of us are marginalized and know voting could be the difference between life and death .  biden was not my first choice ,  but i believe he genuinely cares and wants to help people .  he has a conscience .  he is not a narcissistic sociopath out for power .  i can respect people with whom i disagree on certain things ,  and he is one of them .  one of the reasons our country is in the state it ’ s in is because people are so polarized .  we have lost the ability to communicate and compromise .  i won ’ t put you in the same category as trump ,  but you are not much better ,  just on the other side of the political spectrum .   i only blame you for your own oppression if you choose not to do the one biggest thing you can do to change it ,  which is vote .  anytime someone tells me they chose not to vote  ( not judging if they wanted to vote but couldn ’ t / had systemic barriers to voting )  i lose all respect for them and i become completely uninterested in their opinions on any political matter .  and since almost everything is political these days ,  including breathing ,  you don't deserve to be listened to about anything .   you're being incredibly selfish .  not voting this year is a choice and it is a statement: that you don ’ t care about the people who will die if trump remains in office .  you don ’ t care that he is on the verge of becoming a dictator ,  if not one already .  you don't care about the undocumented families in camps .  you don't care that millions of people are on the verge of losing their health care .  you don ’ t care about the future of this country .   i already voted mail-in .  and even though i felt more like i was voting against someone than for someone ,  the person i voted against is so evil that i consider it the most important vote i've cast in my entire adult life .  so get over yourself ,  think of the innocent people whose lives are at stake ,  and vote . \n once again ,  fuck iu ! \n since we've been talking about ir having to get involved .  .  .  it reminded me that a lot of that deals with right of way ,  and i'd guess that indiana railroad owns about a 6ft offset from the rail center line at least .  but it seems like it would just be a matter of the city getting a permit and do what you mentioned . \n yep ,  i really couldn't believe the  \\ *persistence \\ * with which that vulture had to continue pressing his political point home ,  in every justification and feigned ignorance .  doing his part to make sure that people know the man warning you about someone who might be looking to push into a home or take a hostage .  .  .  well that man is *one of them . * political identity first and foremost ,  ideas a distant second .      also ,  on a lighter note ,  but  \\ *damn \\ * do you live rent free in these people's minds .  lol\n there is a 1 hour delay fetching comments .   i will be messaging you in 1 day on [**2020-07-07 23:32:03 utc**] ( http: /  / www . wolframalpha . com / input /  ? i=2020-07-07%2023:32:03%20utc%20to%20local%20time )  to remind you of [**this link**] ( https: /  / np . reddit . com / r / bloomington / comments / hlw43q / lake_monroe_vauhxx_rush_booker_i_dont_want_to / fx5h0pu /  ? context=3 )   [**click this link**] ( https: /  / np . reddit . com / message / compose /  ? to=remindmebot&subject=reminder&message=%5bhttps%3a%2f%2fwww . reddit . com%2fr%2fbloomington%2fcomments%2fhlw43q%2flake_monroe_vauhxx_rush_booker_i_dont_want_to%2ffx5h0pu%2f%5d%0a%0aremindme%21%202020-07-07%2023%3a32%3a03%20utc )  to send a pm to also be reminded and to reduce spam .   ^ ( parent commenter can  )  [^ ( delete this message to hide from others .  ) ] ( https: /  / np . reddit . com / message / compose /  ? to=remindmebot&subject=delete%20comment&message=delete%21%20hlw43q )   *****  |[^ ( info ) ] ( https: /  / np . reddit . com / r / remindmebot / comments / e1bko7 / remindmebot_info_v21 /  ) |[^ ( custom ) ] ( https: /  / np . reddit . com / message / compose /  ? to=remindmebot&subject=reminder&message=%5blink%20or%20message%20inside%20square%20brackets%5d%0a%0aremindme%21%20time%20period%20here ) |[^ ( your reminders ) ] ( https: /  / np . reddit . com / message / compose /  ? to=remindmebot&subject=list%20of%20reminders&message=myreminders%21 ) |[^ ( feedback ) ] ( https: /  / np . reddit . com / message / compose /  ? to=watchful1&subject=remindmebot%20feedback ) | |-|-|-|-|\n yah we were just there as well !    janeway certainly is awesome ! \n ^\n [deleted]\n line today around 2pm stretches to la vie en rose .  moving decently and no concerns about instigators or anything .  nice to see so many out voting .   edit: 30 min from back of line by la vie to entering to vote . \n i attended this protest .  it ’ s really sad that this happened to him ,  he ’ s a great guy and obviously means well .  also remember that guy who was just walking behind the speakers with the american flag ?  and the motorcycles that kept riding past ?  i wasn ’ t expecting that at all . \n i got a nintendo switch and the zelda game is fun but haven ’ t gotten into full blown addiction .  the goose game i liked\n ok .  this is epic . \n now they look like crap\n hey !  if any of you are looking for any last-minute gift ideas for me ,  i have one .  i'd like nancy pelosi and mitch mcconnell ,  right here tonight .  i want them brought from their happy holiday slumber over there on capitol hill with all the other rich people ,  and i want them brought right here !  with a big ribbon on their head !  and i want to look them straight in the eye ,  and i want to tell them what a cheap ,  lying ,  no-good ,  rotten ,  four-flushing ,  low-life ,  snake-licking ,  dirt-eating ,  inbred ,  overstuffed ,  ignorant ,  blood-sucking ,  dog-kissing ,  brainless ,  dickless ,  hopeless ,  heartless ,  fat-ass ,  bug-eyed ,  stiff-legged ,  spotty-lipped ,  worm-headed sack of monkey shit they are !  hallelujah !  holy shit !  where's the tylenol ? \n i'm too lazy to put any effort into anything .   i limit my activism to scolding people on the internet .   besides ,  if i went all the way out to portland i might miss mail from the welfare office and lose my free ride .   then who would buy me my annual iphone ? \n clunky .  that mussolini quote about living like a lion for a day works better .  although i missed the nature show where the lion in a maga hat cries with shame after giving in to his compulsion to watch aoc deepfake porn\n couldn't agree more with your first sentence .  covid fatigue is real .  but let's be honest ,  that teacher  ( and everyone else who half-ass wears a mask )  was not obviously making a decision about his personal health . \n how does one eat a taco with a mask on  ? \n don't forget the ole classic involving boots and how they affect the taste buds . \n someone just book a rematch on the ufc's fight island ,  and lets settle this on ppv . \n is everything shown one serving ? \n trump  ( or any president )  does not have the power to create law by himself .   what is being addressed here are the people who do have the power to create law ,  and have had that power for 30-50 years ,  and have not fixed anything . \n > especially once his past character is brought into the equation .  it shows he was stirring shit .  go read his twitter feed and see some of the radical nonsense he has posted .    \"he's the kind of person who .  .  . \" is always a spurious argument .  while i agree with that assessment of his personality ,  it does not constitute proof that something did or didn't happen ,  any more than bubble gut mcredneck looking like \"the kind of person\" who commits racist violence proves he actually did . \n because they were shirtless and in swimming trunks and they have video of them for several minutes from every angle .  unless of course they had them shoved up their asses like you do your head\n take a deep breath bro\n that was my first thought as well .  especially when they said something about breaking his arms .  smith ’ s arms were broken .  saying that to a man pinned against a tree in indiana is really fucked up .    https: /  / en . m . wikipedia . org / wiki / lynching_of_thomas_shipp_and_abram_smith\n i am moving .  it takes time .  probably wrap everything up by the spring . \n there is also a false equivalence between op ’ s statement and the post .    whether or not blm is a good or bad organization is an extremely divisive topic .  whether or not the kkk is bad is nearly unanimous .  op knows that . \n street medics are people who show up to make sure others are ok after state violence is enacted upon them for exercising their right to protest .  the amount of getting each other riled up about your neighbors who are out in protest because they see injustice that you don't particularly agree with is paranoia at it's finest .    y'all if you were pepper sprayed or tear gassed or show with rubber bullets at a protest would you not want people there who are well marked who you know you can go to for help ?    i've taken street medic training .  none of this is nefarious and none of this is illegal .  chill the fuck out .  stop trying to escalate something . \n i don't think cranky has the authority to ban people from posting .  but it does sound like something he'd say . \n i have retrieved these for you _ _  ***  ^^&#32;to&#32;prevent&#32;anymore&#32;lost&#32;limbs&#32;throughout&#32;reddit , &#32;correctly&#32;escape&#32;the&#32;arms&#32;and&#32;shoulders&#32;by&#32;typing&#32;the&#32;shrug&#32;as&#32;`¯ \\  \\  \\ _ ( ツ ) _ / ¯`&#32;or&#32;`¯ \\  \\  \\ _ ( ツ )  \\ _ / ¯`   [^^click&#32;here&#32;to&#32;see&#32;why&#32;this&#32;is&#32;necessary] ( https: /  / np . reddit . com / r / outoftheloop / comments / 3fbrg3 / is_there_a_reason_why_the_arm_is_always_missing / ctn5gbf /  ) \n it's not the physical space that makes their locations significant ,  it's the demographic of the employees .  the people working at those places are very much the type who are going out protesting .  they're young hippies or kids whose sense of outrage is intertwined with social networking and influence from the marketing of boho fashion .   they're buying che guevara shirts and playing cowboys and indians ,  except they all want to pretend to be the indians .  it's has nothing to do equality or justice\n it's irritating in some ways .  local emergency groups are trying to get money to get equipment needed ,  and no one donates ,  yet the recent gofundmes for the area get a ton of funding . \n and i doubt your supply of salt product .  stop being an anti-federalist salt-whistler . \n"
     ]
    }
   ],
   "source": [
    "with open('%s/output/spittest.csv' % (project_dir), \"w\") as spit:\n",
    "    csv_writer = csv.writer(spit)\n",
    "    csv_writer.writerow(['subreddit', 'score', 'comment'])\n",
    "    for thing in things:\n",
    "        thing = thing.replace(\"\\n\",\"\")\n",
    "        print(thing)\n",
    "        res = me_model.predict(thing)\n",
    "        csv_writer.writerow([res[0][0], res[1][0], thing])"
   ]
  },
  {
   "cell_type": "code",
   "execution_count": null,
   "metadata": {},
   "outputs": [],
   "source": []
  }
 ]
}